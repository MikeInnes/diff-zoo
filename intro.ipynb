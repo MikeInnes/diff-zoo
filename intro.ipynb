{
 "cells": [
  {
   "outputs": [
    {
     "name": "stdout",
     "output_type": "stream",
     "text": [
      "  Updating registry at `~/.julia/registries/General`\n",
      "  Updating git-repo `git@github.com:JuliaRegistries/General.git`\n",
      "\u001b[?25l\u001b[2K\u001b[?25h"
     ]
    }
   ],
   "cell_type": "code",
   "source": [
    "using Pkg; Pkg.activate(\".\"); Pkg.instantiate()"
   ],
   "metadata": {},
   "execution_count": 1
  },
  {
   "outputs": [],
   "cell_type": "markdown",
   "source": [
    "Differentiation for Hackers\n",
    "===========================\n",
    "\n",
    "These notebooks are an exploration of various approaches to analytical\n",
    "differentiation. Differentiation is something you learned in school; we start\n",
    "with an expression like $y = 3x^2 + 2x + 1$ and find an expression for the\n",
    "derivative like $\\frac{dy}{dx} = 6x + 2$. Once we have such an expression, we\n",
    "can *evaluate* it by plugging in a specific value for $x$ (say 0.5) to find\n",
    "the derivative at that point (in this case $\\frac{dy}{dx} = 5$).\n",
    "\n",
    "Despite its surface simplicity, this technique lies at the core of all modern\n",
    "machine learning and deep learning, alongside many other parts of statistics,\n",
    "mathematical optimisation and engineering. There has recently been an\n",
    "explosion in automatic differentiation (AD) tools, all with different designs\n",
    "and tradeoffs, and it can be difficult to understand how they relate to each\n",
    "other.\n",
    "\n",
    "We aim to fix this by beginning with the \"calculus 101\" rules that you are\n",
    "familiar with and implementing simple symbolic differentiators over mathematical\n",
    "expressions. Then we show how tweaks to this basic framework generalise from\n",
    "expressions to programming languages, leading us to modern automatic\n",
    "differentiation tools and machine learning frameworks like TensorFlow and\n",
    "PyTorch, and giving us a unified view across the AD landscape."
   ],
   "metadata": {}
  },
  {
   "outputs": [],
   "cell_type": "markdown",
   "source": [
    "Symbolic Differentiation\n",
    "------------------------\n",
    "\n",
    "To talk about derivatives, we need to talk about *expressions*, which are\n",
    "symbolic forms like $x^2 + 1$ (as opposed to numbers like $5$). Normal Julia\n",
    "programs only work with numbers; we can write down $x^2 + 1$ but this only\n",
    "lets us calculate its value for a specific $x$."
   ],
   "metadata": {}
  },
  {
   "outputs": [
    {
     "output_type": "execute_result",
     "data": {
      "text/plain": "5"
     },
     "metadata": {},
     "execution_count": 2
    }
   ],
   "cell_type": "code",
   "source": [
    "x = 2\n",
    "y = x^2 + 1"
   ],
   "metadata": {},
   "execution_count": 2
  },
  {
   "outputs": [],
   "cell_type": "markdown",
   "source": [
    "However, Julia also offers a *quotation operator* which lets us talk about the\n",
    "expression itself, without needing to know what $x$ is."
   ],
   "metadata": {}
  },
  {
   "outputs": [
    {
     "output_type": "execute_result",
     "data": {
      "text/plain": ":(x ^ 2 + 1)"
     },
     "metadata": {},
     "execution_count": 3
    }
   ],
   "cell_type": "code",
   "source": [
    "y = :(x^2 + 1)"
   ],
   "metadata": {},
   "execution_count": 3
  },
  {
   "outputs": [
    {
     "output_type": "execute_result",
     "data": {
      "text/plain": "Expr"
     },
     "metadata": {},
     "execution_count": 4
    }
   ],
   "cell_type": "code",
   "source": [
    "typeof(y)"
   ],
   "metadata": {},
   "execution_count": 4
  },
  {
   "outputs": [],
   "cell_type": "markdown",
   "source": [
    "Expressions are a tree data structure. They have a `head` which tells us what\n",
    "kind of expression they are (say, a function call or if statement). They have\n",
    "`args`, their children, which may be further sub-expressions. For example,\n",
    "$x^2 + 1$ is a call to $+$, and one of its children is the expression $x^2$."
   ],
   "metadata": {}
  },
  {
   "outputs": [
    {
     "output_type": "execute_result",
     "data": {
      "text/plain": ":call"
     },
     "metadata": {},
     "execution_count": 5
    }
   ],
   "cell_type": "code",
   "source": [
    "y.head"
   ],
   "metadata": {},
   "execution_count": 5
  },
  {
   "outputs": [
    {
     "output_type": "execute_result",
     "data": {
      "text/plain": "3-element Array{Any,1}:\n  :+      \n  :(x ^ 2)\n 1        "
     },
     "metadata": {},
     "execution_count": 6
    }
   ],
   "cell_type": "code",
   "source": [
    "y.args"
   ],
   "metadata": {},
   "execution_count": 6
  },
  {
   "outputs": [],
   "cell_type": "markdown",
   "source": [
    "We could have built this expression by hand rather than using quotation. It's\n",
    "just a bog-standard tree data structure that happens to have nice printing."
   ],
   "metadata": {}
  },
  {
   "outputs": [
    {
     "output_type": "execute_result",
     "data": {
      "text/plain": ":(x ^ 2)"
     },
     "metadata": {},
     "execution_count": 7
    }
   ],
   "cell_type": "code",
   "source": [
    "x2 = Expr(:call, :^, :x, 2)"
   ],
   "metadata": {},
   "execution_count": 7
  },
  {
   "outputs": [
    {
     "output_type": "execute_result",
     "data": {
      "text/plain": ":(x ^ 2 + 1)"
     },
     "metadata": {},
     "execution_count": 8
    }
   ],
   "cell_type": "code",
   "source": [
    "y = Expr(:call, :+, x2, 1)"
   ],
   "metadata": {},
   "execution_count": 8
  },
  {
   "outputs": [],
   "cell_type": "markdown",
   "source": [
    "We can evaluate our expression to get a number out."
   ],
   "metadata": {}
  },
  {
   "outputs": [
    {
     "output_type": "execute_result",
     "data": {
      "text/plain": "5"
     },
     "metadata": {},
     "execution_count": 9
    }
   ],
   "cell_type": "code",
   "source": [
    "eval(y)"
   ],
   "metadata": {},
   "execution_count": 9
  },
  {
   "outputs": [],
   "cell_type": "markdown",
   "source": [
    "When we differentiate something, we'll start by manipulating an expression\n",
    "like this, and then we can optionally evaluate it with numbers to get a\n",
    "numerical derivative. I'll call these the \"symbolic phase\" and the \"numeric\n",
    "phase\" of differentiation, respectively."
   ],
   "metadata": {}
  },
  {
   "outputs": [],
   "cell_type": "markdown",
   "source": [
    "How might we differentiate an expression like $x^2 + 1$? We can start by\n",
    "looking at the basic rules in differential calculus.\n",
    "\n",
    "$$\n",
    "\\begin{align}\n",
    "\\frac{d}{dx} x &= 1 \\\\\n",
    "\\frac{d}{dx} (-u) &= - \\frac{du}{dx} \\\\\n",
    "\\frac{d}{dx} (u + v) &= \\frac{du}{dx} + \\frac{dv}{dx} \\\\\n",
    "\\frac{d}{dx} (u * v) &= v \\frac{du}{dx} + u \\frac{dv}{dx} \\\\\n",
    "\\frac{d}{dx} (u / v) &= (v \\frac{du}{dx} - u \\frac{dv}{dx}) / v^2 \\\\\n",
    "\\frac{d}{dx} u^n &= n u^{n-1} \\\\\n",
    "\\end{align}\n",
    "$$\n",
    "\n",
    "Seeing $\\frac{d}{dx}(u)$ as a function, these rules look a lot like a\n",
    "recursive algorithm. To differentiate something like `y = a + b`, we\n",
    "differentiate `a` and `b` and combine them together. To differentiate `a` we\n",
    "do the same thing, and so on; eventually we'll hit something like `x` or `3`\n",
    "which has a trivial derivative ($1$ or $0$)."
   ],
   "metadata": {}
  },
  {
   "outputs": [],
   "cell_type": "markdown",
   "source": [
    "Let's start by handling the obvious cases, $y = x$ and $y = 1$."
   ],
   "metadata": {}
  },
  {
   "outputs": [
    {
     "output_type": "execute_result",
     "data": {
      "text/plain": "derive (generic function with 1 method)"
     },
     "metadata": {},
     "execution_count": 10
    }
   ],
   "cell_type": "code",
   "source": [
    "function derive(ex, x)\n",
    "  ex == x ? 1 :\n",
    "  ex isa Union{Number,Symbol} ? 0 :\n",
    "  error(\"$ex is not differentiable\")\n",
    "end"
   ],
   "metadata": {},
   "execution_count": 10
  },
  {
   "outputs": [
    {
     "output_type": "execute_result",
     "data": {
      "text/plain": "1"
     },
     "metadata": {},
     "execution_count": 11
    }
   ],
   "cell_type": "code",
   "source": [
    "y = :(x)\n",
    "derive(y, :x)"
   ],
   "metadata": {},
   "execution_count": 11
  },
  {
   "outputs": [
    {
     "output_type": "execute_result",
     "data": {
      "text/plain": "0"
     },
     "metadata": {},
     "execution_count": 12
    }
   ],
   "cell_type": "code",
   "source": [
    "y = :(1)\n",
    "derive(y, :x)"
   ],
   "metadata": {},
   "execution_count": 12
  },
  {
   "outputs": [],
   "cell_type": "markdown",
   "source": [
    "We can look for expressions of the form `y = a + b` using pattern matching,\n",
    "with a package called\n",
    "[MacroTools](https://github.com/MikeInnes/MacroTools.jl). If `@capture`\n",
    "returns true, then we can work with the sub-expressions `a` and `b`."
   ],
   "metadata": {}
  },
  {
   "outputs": [
    {
     "output_type": "execute_result",
     "data": {
      "text/plain": ":(x + 1)"
     },
     "metadata": {},
     "execution_count": 13
    }
   ],
   "cell_type": "code",
   "source": [
    "using MacroTools\n",
    "\n",
    "y = :(x + 1)"
   ],
   "metadata": {},
   "execution_count": 13
  },
  {
   "outputs": [
    {
     "output_type": "execute_result",
     "data": {
      "text/plain": "false"
     },
     "metadata": {},
     "execution_count": 14
    }
   ],
   "cell_type": "code",
   "source": [
    "@capture(y, a_ * b_)"
   ],
   "metadata": {},
   "execution_count": 14
  },
  {
   "outputs": [
    {
     "output_type": "execute_result",
     "data": {
      "text/plain": "true"
     },
     "metadata": {},
     "execution_count": 15
    }
   ],
   "cell_type": "code",
   "source": [
    "@capture(y, a_ + b_)"
   ],
   "metadata": {},
   "execution_count": 15
  },
  {
   "outputs": [
    {
     "output_type": "execute_result",
     "data": {
      "text/plain": "(:x, 1)"
     },
     "metadata": {},
     "execution_count": 16
    }
   ],
   "cell_type": "code",
   "source": [
    "a, b"
   ],
   "metadata": {},
   "execution_count": 16
  },
  {
   "outputs": [],
   "cell_type": "markdown",
   "source": [
    "Let's use this to add a rule to `derive`, following the chain rule above."
   ],
   "metadata": {}
  },
  {
   "outputs": [
    {
     "output_type": "execute_result",
     "data": {
      "text/plain": "derive (generic function with 1 method)"
     },
     "metadata": {},
     "execution_count": 17
    }
   ],
   "cell_type": "code",
   "source": [
    "function derive(ex, x)\n",
    "  ex == x ? 1 :\n",
    "  ex isa Union{Number,Symbol} ? 0 :\n",
    "  @capture(ex, a_ + b_) ? :($(derive(a, x)) + $(derive(b, x))) :\n",
    "  error(\"$ex is not differentiable\")\n",
    "end"
   ],
   "metadata": {},
   "execution_count": 17
  },
  {
   "outputs": [
    {
     "output_type": "execute_result",
     "data": {
      "text/plain": ":(1 + 0)"
     },
     "metadata": {},
     "execution_count": 18
    }
   ],
   "cell_type": "code",
   "source": [
    "y = :(x + 1)\n",
    "derive(y, :x)"
   ],
   "metadata": {},
   "execution_count": 18
  },
  {
   "outputs": [
    {
     "output_type": "execute_result",
     "data": {
      "text/plain": ":(1 + (0 + (1 + 0)))"
     },
     "metadata": {},
     "execution_count": 19
    }
   ],
   "cell_type": "code",
   "source": [
    "y = :(x + (1 + (x + 1)))\n",
    "derive(y, :x)"
   ],
   "metadata": {},
   "execution_count": 19
  },
  {
   "outputs": [],
   "cell_type": "markdown",
   "source": [
    "These are the correct derivatives, even if they could be simplified a bit. We\n",
    "can go on to add the rest of the rules similarly."
   ],
   "metadata": {}
  },
  {
   "outputs": [
    {
     "output_type": "execute_result",
     "data": {
      "text/plain": "derive (generic function with 1 method)"
     },
     "metadata": {},
     "execution_count": 20
    }
   ],
   "cell_type": "code",
   "source": [
    "function derive(ex, x)\n",
    "  ex == x ? 1 :\n",
    "  ex isa Union{Number,Symbol} ? 0 :\n",
    "  @capture(ex, a_ + b_) ? :($(derive(a, x)) + $(derive(b, x))) :\n",
    "  @capture(ex, a_ * b_) ? :($a * $(derive(b, x)) + $b * $(derive(a, x))) :\n",
    "  @capture(ex, a_^n_Number) ? :($(derive(a, x)) * ($n * $a^$(n-1))) :\n",
    "  @capture(ex, a_ / b_) ? :($b * $(derive(a, x)) - $a * $(derive(b, x)) / $b^2) :\n",
    "  error(\"$ex is not differentiable\")\n",
    "end"
   ],
   "metadata": {},
   "execution_count": 20
  },
  {
   "outputs": [],
   "cell_type": "markdown",
   "source": [
    "This is enough to get us a slightly more difficult derivative."
   ],
   "metadata": {}
  },
  {
   "outputs": [
    {
     "output_type": "execute_result",
     "data": {
      "text/plain": ":((3 * (1 * (2 * x ^ 1)) + x ^ 2 * 0) + ((2 * 1 + x * 0) + 0))"
     },
     "metadata": {},
     "execution_count": 21
    }
   ],
   "cell_type": "code",
   "source": [
    "y = :(3x^2 + (2x + 1))\n",
    "dy = derive(y, :x)"
   ],
   "metadata": {},
   "execution_count": 21
  },
  {
   "outputs": [],
   "cell_type": "markdown",
   "source": [
    "This is correct – it's equivalent to $6x + 2$ – but it's also a bit noisy, with a\n",
    "lot of redundant terms like $x + 0$. We can clean this up by creating some\n",
    "smarter functions to do our symbolic addition and multiplication. They'll just\n",
    "avoid actually doing anything if the input is redundant."
   ],
   "metadata": {}
  },
  {
   "outputs": [
    {
     "output_type": "execute_result",
     "data": {
      "text/plain": "mulm (generic function with 2 methods)"
     },
     "metadata": {},
     "execution_count": 22
    }
   ],
   "cell_type": "code",
   "source": [
    "addm(a, b) = a == 0 ? b : b == 0 ? a : :($a + $b)\n",
    "mulm(a, b) = 0 in (a, b) ? 0 : a == 1 ? b : b == 1 ? a : :($a * $b)\n",
    "mulm(a, b, c...) = mulm(mulm(a, b), c...)"
   ],
   "metadata": {},
   "execution_count": 22
  },
  {
   "outputs": [
    {
     "output_type": "execute_result",
     "data": {
      "text/plain": ":(a + b)"
     },
     "metadata": {},
     "execution_count": 23
    }
   ],
   "cell_type": "code",
   "source": [
    "addm(:a, :b)"
   ],
   "metadata": {},
   "execution_count": 23
  },
  {
   "outputs": [
    {
     "output_type": "execute_result",
     "data": {
      "text/plain": ":a"
     },
     "metadata": {},
     "execution_count": 24
    }
   ],
   "cell_type": "code",
   "source": [
    "addm(:a, 0)"
   ],
   "metadata": {},
   "execution_count": 24
  },
  {
   "outputs": [
    {
     "output_type": "execute_result",
     "data": {
      "text/plain": ":b"
     },
     "metadata": {},
     "execution_count": 25
    }
   ],
   "cell_type": "code",
   "source": [
    "mulm(:b, 1)"
   ],
   "metadata": {},
   "execution_count": 25
  },
  {
   "outputs": [],
   "cell_type": "markdown",
   "source": [
    "Our tweaked `derive` function:"
   ],
   "metadata": {}
  },
  {
   "outputs": [
    {
     "output_type": "execute_result",
     "data": {
      "text/plain": "derive (generic function with 1 method)"
     },
     "metadata": {},
     "execution_count": 26
    }
   ],
   "cell_type": "code",
   "source": [
    "function derive(ex, x)\n",
    "  ex == x ? 1 :\n",
    "  ex isa Union{Number,Symbol} ? 0 :\n",
    "  @capture(ex, a_ + b_) ? addm(derive(a, x), derive(b, x)) :\n",
    "  @capture(ex, a_ * b_) ? addm(mulm(a, derive(b, x)), mulm(b, derive(a, x))) :\n",
    "  @capture(ex, a_^n_Number) ? mulm(derive(a, x),n,:($a^$(n-1))) :\n",
    "  @capture(ex, a_ / b_) ? :($(mulm(b, derive(a, x))) - $(mulm(a, derive(b, x))) / $b^2) :\n",
    "  error(\"$ex is not differentiable\")\n",
    "end"
   ],
   "metadata": {},
   "execution_count": 26
  },
  {
   "outputs": [],
   "cell_type": "markdown",
   "source": [
    "And the output is much cleaner."
   ],
   "metadata": {}
  },
  {
   "outputs": [
    {
     "output_type": "execute_result",
     "data": {
      "text/plain": ":(3 * (2 * x ^ 1) + 2)"
     },
     "metadata": {},
     "execution_count": 27
    }
   ],
   "cell_type": "code",
   "source": [
    "y = :(3x^2 + (2x + 1))\n",
    "dy = derive(y, :x)"
   ],
   "metadata": {},
   "execution_count": 27
  },
  {
   "outputs": [],
   "cell_type": "markdown",
   "source": [
    "Having done this, we can also calculate a nested derivative\n",
    "$\\frac{d^2y}{dx^2}$, and so on."
   ],
   "metadata": {}
  },
  {
   "outputs": [
    {
     "output_type": "execute_result",
     "data": {
      "text/plain": ":(3 * (2 * x ^ 0))"
     },
     "metadata": {},
     "execution_count": 28
    }
   ],
   "cell_type": "code",
   "source": [
    "ddy = derive(dy, :x)"
   ],
   "metadata": {},
   "execution_count": 28
  },
  {
   "outputs": [
    {
     "output_type": "execute_result",
     "data": {
      "text/plain": "0"
     },
     "metadata": {},
     "execution_count": 29
    }
   ],
   "cell_type": "code",
   "source": [
    "derive(ddy, :x)"
   ],
   "metadata": {},
   "execution_count": 29
  },
  {
   "outputs": [],
   "cell_type": "markdown",
   "source": [
    "There is a deeper problem with our differentiation algorithm, though. Look at\n",
    "how big this derivative is."
   ],
   "metadata": {}
  },
  {
   "outputs": [
    {
     "output_type": "execute_result",
     "data": {
      "text/plain": ":((1 + x ^ 2) - (x * (2 * x ^ 1)) / (1 + x ^ 2) ^ 2)"
     },
     "metadata": {},
     "execution_count": 30
    }
   ],
   "cell_type": "code",
   "source": [
    "derive(:(x / (1 + x^2)), :x)"
   ],
   "metadata": {},
   "execution_count": 30
  },
  {
   "outputs": [],
   "cell_type": "markdown",
   "source": [
    "Adding an extra `* x` makes it even bigger! There's a bunch of redundant work\n",
    "here, repeating the expression $1 + x^2$ three times over."
   ],
   "metadata": {}
  },
  {
   "outputs": [
    {
     "output_type": "execute_result",
     "data": {
      "text/plain": ":(x / (1 + x ^ 2) + x * ((1 + x ^ 2) - (x * (2 * x ^ 1)) / (1 + x ^ 2) ^ 2))"
     },
     "metadata": {},
     "execution_count": 31
    }
   ],
   "cell_type": "code",
   "source": [
    "derive(:(x / (1 + x^2) * x), :x)"
   ],
   "metadata": {},
   "execution_count": 31
  },
  {
   "outputs": [],
   "cell_type": "markdown",
   "source": [
    "This happens because our rules look like $\\frac{d(u*v)}{dx} = u*\\frac{dv}{dx}\n",
    "+ v*\\frac{du}{dx}$. Every multiplication repeats the whole sub-expression and its\n",
    "derivative, making the output exponentially large in the size of its input.\n",
    "\n",
    "This seems to be an achilles heel for our little differentiator, since it will\n",
    "make it impractical to run on any realistically-sized program. But wait!\n",
    "Things are not quite as simple as they seem, because this expression is not\n",
    "*actually* as big as it looks.\n",
    "\n",
    "Imagine we write down:"
   ],
   "metadata": {}
  },
  {
   "outputs": [
    {
     "output_type": "execute_result",
     "data": {
      "text/plain": ":(1 * 2 + 1 * 2 + 1 * 2 + 1 * 2)"
     },
     "metadata": {},
     "execution_count": 32
    }
   ],
   "cell_type": "code",
   "source": [
    "y1 = :(1 * 2)\n",
    "y2 = :($y1 + $y1 + $y1 + $y1)"
   ],
   "metadata": {},
   "execution_count": 32
  },
  {
   "outputs": [],
   "cell_type": "markdown",
   "source": [
    "This looks like a large expression, but in actual fact it does not contain\n",
    "$1*2$ four times over, just four pointers to $y1$; it is not really a tree but\n",
    "a graph that gets printed as a tree. We can show this by explicitly printing\n",
    "the expression in a way that preserves structure.\n",
    "\n",
    "(The definition of `printstructure` is not important to understand, but is\n",
    "here for reference.)"
   ],
   "metadata": {}
  },
  {
   "outputs": [
    {
     "name": "stdout",
     "output_type": "stream",
     "text": [
      "y1 = 1 * 2\n",
      "y2 = y1 + y1 + y1 + y1\n"
     ]
    }
   ],
   "cell_type": "code",
   "source": [
    "printstructure(x, _, _) = x\n",
    "\n",
    "function printstructure(ex::Expr, cache = IdDict(), n = Ref(0))\n",
    "  haskey(cache, ex) && return cache[ex]\n",
    "  args = map(x -> printstructure(x, cache, n), ex.args)\n",
    "  cache[ex] = sym = Symbol(:y, n[] += 1)\n",
    "  println(:($sym = $(Expr(ex.head, args...))))\n",
    "  return sym\n",
    "end\n",
    "\n",
    "printstructure(y2);"
   ],
   "metadata": {},
   "execution_count": 33
  },
  {
   "outputs": [],
   "cell_type": "markdown",
   "source": [
    "Note that this is *not* the same as running common subexpression elimination\n",
    "to simplify the tree, which would have an $O(n^2)$ computational cost. If\n",
    "there is real duplication in the expression, it'll show up."
   ],
   "metadata": {}
  },
  {
   "outputs": [
    {
     "name": "stdout",
     "output_type": "stream",
     "text": [
      "y1 = 1 * 2\n",
      "y2 = 1 * 2\n",
      "y3 = y1 + y2\n"
     ]
    }
   ],
   "cell_type": "code",
   "source": [
    ":(1*2 + 1*2) |> printstructure;"
   ],
   "metadata": {},
   "execution_count": 34
  },
  {
   "outputs": [],
   "cell_type": "markdown",
   "source": [
    "This is effectively a change in notation: we were previously using a kind of\n",
    "\"calculator notation\" in which any computation used more than once had to be\n",
    "repeated in full. Now we are allowed to use variable bindings to get the same\n",
    "effect."
   ],
   "metadata": {}
  },
  {
   "outputs": [],
   "cell_type": "markdown",
   "source": [
    "If we try `printstructure` on our differentiated code, we'll see that the\n",
    "output is not so bad after all:"
   ],
   "metadata": {}
  },
  {
   "outputs": [
    {
     "name": "stdout",
     "output_type": "stream",
     "text": [
      "y1 = x ^ 2\n",
      "y2 = 1 + y1\n",
      "y3 = x / y2\n"
     ]
    }
   ],
   "cell_type": "code",
   "source": [
    ":(x / (1 + x^2)) |> printstructure;"
   ],
   "metadata": {},
   "execution_count": 35
  },
  {
   "outputs": [
    {
     "output_type": "execute_result",
     "data": {
      "text/plain": ":((1 + x ^ 2) - (x * (2 * x ^ 1)) / (1 + x ^ 2) ^ 2)"
     },
     "metadata": {},
     "execution_count": 36
    }
   ],
   "cell_type": "code",
   "source": [
    "derive(:(x / (1 + x^2)), :x)"
   ],
   "metadata": {},
   "execution_count": 36
  },
  {
   "outputs": [
    {
     "name": "stdout",
     "output_type": "stream",
     "text": [
      "y1 = x ^ 2\n",
      "y2 = 1 + y1\n",
      "y3 = x ^ 1\n",
      "y4 = 2y3\n",
      "y5 = x * y4\n",
      "y6 = y2 ^ 2\n",
      "y7 = y5 / y6\n",
      "y8 = y2 - y7\n"
     ]
    }
   ],
   "cell_type": "code",
   "source": [
    "derive(:(x / (1 + x^2)), :x) |> printstructure;"
   ],
   "metadata": {},
   "execution_count": 37
  },
  {
   "outputs": [],
   "cell_type": "markdown",
   "source": [
    "The expression $x^2 + 1$ is now defined once and reused rather than being\n",
    "repeated, and adding the extra `* x` now adds a couple of instructions to our\n",
    "derivative, rather than doubling its size. It turns out that our \"naive\"\n",
    "symbolic differentiator actually preserves structure in a very sensible way,\n",
    "and we just needed the right program representation to exploit that."
   ],
   "metadata": {}
  },
  {
   "outputs": [
    {
     "output_type": "execute_result",
     "data": {
      "text/plain": ":(x / (1 + x ^ 2) + x * ((1 + x ^ 2) - (x * (2 * x ^ 1)) / (1 + x ^ 2) ^ 2))"
     },
     "metadata": {},
     "execution_count": 38
    }
   ],
   "cell_type": "code",
   "source": [
    "derive(:(x / (1 + x^2) * x), :x)"
   ],
   "metadata": {},
   "execution_count": 38
  },
  {
   "outputs": [
    {
     "name": "stdout",
     "output_type": "stream",
     "text": [
      "y1 = x ^ 2\n",
      "y2 = 1 + y1\n",
      "y3 = x / y2\n",
      "y4 = x ^ 1\n",
      "y5 = 2y4\n",
      "y6 = x * y5\n",
      "y7 = y2 ^ 2\n",
      "y8 = y6 / y7\n",
      "y9 = y2 - y8\n",
      "y10 = x * y9\n",
      "y11 = y3 + y10\n"
     ]
    }
   ],
   "cell_type": "code",
   "source": [
    "derive(:(x / (1 + x^2) * x), :x) |> printstructure;"
   ],
   "metadata": {},
   "execution_count": 39
  },
  {
   "outputs": [],
   "cell_type": "markdown",
   "source": [
    "Calculator notation – expressions without variable bindings – is a terrible\n",
    "format for anything, and will tend to blow up in size whether you\n",
    "differentiate it or not. Symbolic differentiation is commonly criticised for\n",
    "its susceptability to \"expression swell\", but in fact has nothing to do with\n",
    "the differentiation algorithm itself, and we need not change it to get better\n",
    "results.\n",
    "\n",
    "Conversely, the way we have used `Expr` objects to represent variable bindings\n",
    "is perfectly sound, if a little unusual. This format could happily be used to\n",
    "illustrate all of the concepts in this handbook, and the recursive algorithms\n",
    "used to do so are elegant. However, it will clarify some things if they are\n",
    "written a little more explicitly; for this we'll introduce a new, equivalent\n",
    "representation for expressions."
   ],
   "metadata": {}
  },
  {
   "outputs": [],
   "cell_type": "markdown",
   "source": [
    "The Wengert List\n",
    "----------------\n",
    "\n",
    "The output of `printstructure` above is known as a \"Wengert List\", an explicit\n",
    "list of instructions that's a bit like writing assembly code. Really, Wengert\n",
    "lists are nothing more or less than mathematical expressions written out\n",
    "verbosely, and we can easily convert to and from equivalent `Expr` objects."
   ],
   "metadata": {}
  },
  {
   "outputs": [],
   "cell_type": "code",
   "source": [
    "include(\"utils.jl\");"
   ],
   "metadata": {},
   "execution_count": 40
  },
  {
   "outputs": [
    {
     "output_type": "execute_result",
     "data": {
      "text/plain": ":(3 * x ^ 2 + (2x + 1))"
     },
     "metadata": {},
     "execution_count": 41
    }
   ],
   "cell_type": "code",
   "source": [
    "y = :(3x^2 + (2x + 1))"
   ],
   "metadata": {},
   "execution_count": 41
  },
  {
   "outputs": [
    {
     "output_type": "execute_result",
     "data": {
      "text/plain": "Wengert List\ny1 = x ^ 2\ny2 = 3 * y1\ny3 = 2x\ny4 = y3 + 1\ny5 = y2 + y4\n"
     },
     "metadata": {},
     "execution_count": 42
    }
   ],
   "cell_type": "code",
   "source": [
    "wy = Wengert(y)"
   ],
   "metadata": {},
   "execution_count": 42
  },
  {
   "outputs": [
    {
     "output_type": "execute_result",
     "data": {
      "text/plain": ":(3 * x ^ 2 + (2x + 1))"
     },
     "metadata": {},
     "execution_count": 43
    }
   ],
   "cell_type": "code",
   "source": [
    "Expr(wy)"
   ],
   "metadata": {},
   "execution_count": 43
  },
  {
   "outputs": [],
   "cell_type": "markdown",
   "source": [
    "Inside, we can see that it really is just a list of function calls, where\n",
    "$y_n$ refers to the result of the $n^{th}$."
   ],
   "metadata": {}
  },
  {
   "outputs": [
    {
     "output_type": "execute_result",
     "data": {
      "text/plain": "5-element Array{Any,1}:\n :(x ^ 2)  \n :(3 * y1) \n :(2x)     \n :(y3 + 1) \n :(y2 + y4)"
     },
     "metadata": {},
     "execution_count": 44
    }
   ],
   "cell_type": "code",
   "source": [
    "wy.instructions"
   ],
   "metadata": {},
   "execution_count": 44
  },
  {
   "outputs": [],
   "cell_type": "markdown",
   "source": [
    "Like `Expr`s, we can also build Wengert lists by hand."
   ],
   "metadata": {}
  },
  {
   "outputs": [
    {
     "output_type": "execute_result",
     "data": {
      "text/plain": "Wengert List\ny1 = x ^ 2\n"
     },
     "metadata": {},
     "execution_count": 45
    }
   ],
   "cell_type": "code",
   "source": [
    "w = Wengert()\n",
    "tmp = push!(w, :(x^2))\n",
    "w"
   ],
   "metadata": {},
   "execution_count": 45
  },
  {
   "outputs": [
    {
     "output_type": "execute_result",
     "data": {
      "text/plain": "Wengert List\ny1 = x ^ 2\ny2 = y1 + 1\n"
     },
     "metadata": {},
     "execution_count": 46
    }
   ],
   "cell_type": "code",
   "source": [
    "push!(w, :($tmp + 1))\n",
    "w"
   ],
   "metadata": {},
   "execution_count": 46
  },
  {
   "outputs": [],
   "cell_type": "markdown",
   "source": [
    "Armed with this, we can quite straightforwardly port our recursive symbolic\n",
    "differentiation algorithm to the Wengert list."
   ],
   "metadata": {}
  },
  {
   "outputs": [
    {
     "output_type": "execute_result",
     "data": {
      "text/plain": "derive (generic function with 3 methods)"
     },
     "metadata": {},
     "execution_count": 47
    }
   ],
   "cell_type": "code",
   "source": [
    "function derive(ex, x, w)\n",
    "  ex isa Variable && (ex = w[ex])\n",
    "  ex == x ? 1 :\n",
    "  ex isa Union{Number,Symbol} ? 0 :\n",
    "  @capture(ex, a_ + b_) ? push!(w, addm(derive(a, x, w), derive(b, x, w))) :\n",
    "  @capture(ex, a_ * b_) ? push!(w, addm(mulm(a, derive(b, x, w)), mulm(b, derive(a, x, w)))) :\n",
    "  @capture(ex, a_^n_Number) ? push!(w, mulm(derive(a, x, w),n,:($a^$(n-1)))) :\n",
    "  @capture(ex, a_ / b_) ? push!(w, :($(mulm(b, derive(a, x, w))) - $(mulm(a, derive(b, x, w))) / $b^2)) :\n",
    "  error(\"$ex is not differentiable\")\n",
    "end\n",
    "\n",
    "derive(w::Wengert, x) = (derive(w[end], x, w); w)"
   ],
   "metadata": {},
   "execution_count": 47
  },
  {
   "outputs": [],
   "cell_type": "markdown",
   "source": [
    "It behaves identically to what we wrote before; we have only changed the\n",
    "underlying representation."
   ],
   "metadata": {}
  },
  {
   "outputs": [
    {
     "output_type": "execute_result",
     "data": {
      "text/plain": ":(3 * (2 * x ^ 1) + 2)"
     },
     "metadata": {},
     "execution_count": 48
    }
   ],
   "cell_type": "code",
   "source": [
    "derive(Wengert(:(3x^2 + (2x + 1))), :x) |> Expr"
   ],
   "metadata": {},
   "execution_count": 48
  },
  {
   "outputs": [],
   "cell_type": "markdown",
   "source": [
    "In fact, we can compare them directly using the `printstructure` function we\n",
    "wrote earlier."
   ],
   "metadata": {}
  },
  {
   "outputs": [
    {
     "name": "stdout",
     "output_type": "stream",
     "text": [
      "y1 = x ^ 2\n",
      "y2 = 1 + y1\n",
      "y3 = x ^ 1\n",
      "y4 = 2y3\n",
      "y5 = x * y4\n",
      "y6 = y2 ^ 2\n",
      "y7 = y5 / y6\n",
      "y8 = y2 - y7\n"
     ]
    },
    {
     "output_type": "execute_result",
     "data": {
      "text/plain": ":y8"
     },
     "metadata": {},
     "execution_count": 49
    }
   ],
   "cell_type": "code",
   "source": [
    "derive(:(x / (1 + x^2)), :x) |> printstructure"
   ],
   "metadata": {},
   "execution_count": 49
  },
  {
   "outputs": [
    {
     "output_type": "execute_result",
     "data": {
      "text/plain": "Wengert List\ny1 = x ^ 2\ny2 = 1 + y1\ny3 = x / y2\ny4 = x ^ 1\ny5 = 2 * y4\ny6 = x * y5\ny7 = y2 ^ 2\ny8 = y6 / y7\ny9 = y2 - y8\n"
     },
     "metadata": {},
     "execution_count": 50
    }
   ],
   "cell_type": "code",
   "source": [
    "derive(Wengert(:(x / (1 + x^2))), :x)"
   ],
   "metadata": {},
   "execution_count": 50
  },
  {
   "outputs": [],
   "cell_type": "markdown",
   "source": [
    "They are *almost* identical; the only difference is the unused variable `y3`\n",
    "in the Wengert version. This happens because our `Expr` format effectively\n",
    "removes dead code for us automatically. We'll see the same thing happen if\n",
    "we convert the Wengert list back into an `Expr`."
   ],
   "metadata": {}
  },
  {
   "outputs": [
    {
     "output_type": "execute_result",
     "data": {
      "text/plain": "quote\n    y2 = 1 + x ^ 2\n    y2 - (x * (2 * x ^ 1)) / y2 ^ 2\nend"
     },
     "metadata": {},
     "execution_count": 51
    }
   ],
   "cell_type": "code",
   "source": [
    "derive(Wengert(:(x / (1 + x^2))), :x) |> Expr\n",
    "\n",
    "function derive(w::Wengert, x)\n",
    "  ds = Dict()\n",
    "  ds[x] = 1\n",
    "  d(x) = get(ds, x, 0)\n",
    "  for v in keys(w)\n",
    "    ex = w[v]\n",
    "    Δ = @capture(ex, a_ + b_) ? addm(d(a), d(b)) :\n",
    "        @capture(ex, a_ * b_) ? addm(mulm(a, d(b)), mulm(b, d(a))) :\n",
    "        @capture(ex, a_^n_Number) ? mulm(d(a),n,:($a^$(n-1))) :\n",
    "        @capture(ex, a_ / b_) ? :($(mulm(b, d(a))) - $(mulm(a, d(b))) / $b^2) :\n",
    "        error(\"$ex is not differentiable\")\n",
    "    ds[v] = push!(w, Δ)\n",
    "  end\n",
    "  return w\n",
    "end\n",
    "\n",
    "derive(Wengert(:(x / (1 + x^2))), :x) |> Expr"
   ],
   "metadata": {},
   "execution_count": 51
  },
  {
   "outputs": [],
   "cell_type": "markdown",
   "source": [
    "One more thing. The astute reader may notice that our differentiation\n",
    "algorithm begins with $\\frac{dx}{dx}=1$ and propagates this forward to the\n",
    "output; in other words it does [forward-mode\n",
    "differentiation](./backandforth.ipynb). We can tweak our code a little to do\n",
    "reverse mode instead."
   ],
   "metadata": {}
  },
  {
   "outputs": [
    {
     "output_type": "execute_result",
     "data": {
      "text/plain": "derive_r (generic function with 1 method)"
     },
     "metadata": {},
     "execution_count": 52
    }
   ],
   "cell_type": "code",
   "source": [
    "function derive_r(w::Wengert, x)\n",
    "  ds = Dict()\n",
    "  d(x) = get(ds, x, 0)\n",
    "  d(x, Δ) = ds[x] = haskey(ds, x) ? addm(ds[x],Δ) : Δ\n",
    "  d(lastindex(w), 1)\n",
    "  for v in reverse(collect(keys(w)))\n",
    "    ex = w[v]\n",
    "    Δ = d(v)\n",
    "    if @capture(ex, a_ + b_)\n",
    "      d(a, Δ)\n",
    "      d(b, Δ)\n",
    "    elseif @capture(ex, a_ * b_)\n",
    "      d(a, push!(w, mulm(Δ, b)))\n",
    "      d(b, push!(w, mulm(Δ, a)))\n",
    "    elseif @capture(ex, a_^n_Number)\n",
    "      d(a, mulm(Δ, n, :($a^$(n-1))))\n",
    "    elseif @capture(ex, a_ / b_)\n",
    "      d(a, push!(w, mulm(Δ, b)))\n",
    "      d(b, push!(w, :(-$(mulm(Δ, a))/$b^2)))\n",
    "    else\n",
    "      error(\"$ex is not differentiable\")\n",
    "    end\n",
    "  end\n",
    "  push!(w, d(x))\n",
    "  return w\n",
    "end"
   ],
   "metadata": {},
   "execution_count": 52
  },
  {
   "outputs": [],
   "cell_type": "markdown",
   "source": [
    "There are only two distinct algorithms in this handbook, and this is the\n",
    "second! It's quite similar to forward mode, with the difference that we\n",
    "walk backwards over the list, and each time we see a usage of a variable\n",
    "$y_i$ we accumulate a gradient for that variable."
   ],
   "metadata": {}
  },
  {
   "outputs": [
    {
     "output_type": "execute_result",
     "data": {
      "text/plain": "quote\n    y2 = 1 + x ^ 2\n    y2 + ((-x / y2 ^ 2) * 2) * x ^ 1\nend"
     },
     "metadata": {},
     "execution_count": 53
    }
   ],
   "cell_type": "code",
   "source": [
    "derive_r(Wengert(:(x / (1 + x^2))), :x) |> Expr"
   ],
   "metadata": {},
   "execution_count": 53
  },
  {
   "outputs": [],
   "cell_type": "markdown",
   "source": [
    "For now, the output looks pretty similar to that of forward mode; we'll\n",
    "explain why the [distinction makes a difference](./backandforth.ipynb) in future\n",
    "notebooks."
   ],
   "metadata": {}
  }
 ],
 "nbformat_minor": 3,
 "metadata": {
  "language_info": {
   "file_extension": ".jl",
   "mimetype": "application/julia",
   "name": "julia",
   "version": "1.2.0-DEV.177"
  },
  "kernelspec": {
   "name": "julia-1.2",
   "display_name": "Julia 1.2.0-DEV.177",
   "language": "julia"
  }
 },
 "nbformat": 4
}
